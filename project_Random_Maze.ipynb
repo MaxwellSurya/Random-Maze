{
 "cells": [
  {
   "cell_type": "markdown",
   "metadata": {},
   "source": [
    "# Random Maze\n"
   ]
  },
  {
   "cell_type": "code",
   "execution_count": 1,
   "metadata": {},
   "outputs": [],
   "source": [
    "H = Bool[0 1 0 0 0; 1 0 1 0 0; 0 1 1 0 0; 1 1 1 0 1; 0 1 0 1 1; 1 0 0 0 0];\n",
    "V = Bool[1 0 1 1 1 0; 0 1 0 0 1 1; 0 0 0 0 1 0; 0 1 0 1 0 0; 0 0 1 0 1 0];"
   ]
  },
  {
   "cell_type": "code",
   "execution_count": 2,
   "metadata": {},
   "outputs": [
    {
     "data": {
      "text/plain": [
       "plot_cell_indices (generic function with 1 method)"
      ]
     },
     "execution_count": 2,
     "metadata": {},
     "output_type": "execute_result"
    }
   ],
   "source": [
    "using PyPlot, Random\n",
    "\n",
    "function plot_maze(H,V)\n",
    "    clf()\n",
    "    axis(\"off\")\n",
    "    axis(\"equal\")\n",
    "    n = size(H,1)\n",
    "    plot([0,n,n,0,0], [0,0,n,n,0], color=\"k\")\n",
    "    \n",
    "    for x = 1:n-1, y = 1:n\n",
    "        if V[x,y]\n",
    "            plot([x,x], [y-1,y], color=\"k\")\n",
    "        end\n",
    "    end\n",
    "    for x = 1:n, y = 1:n-1\n",
    "        if H[x,y]\n",
    "            plot([x-1,x], [y,y], color=\"k\")\n",
    "        end\n",
    "    end\n",
    "end\n",
    "\n",
    "function plot_cell_indices(n)\n",
    "    for i = 1:n\n",
    "        for j = 1:n\n",
    "            text(i-0.5, j-0.5, \"($i,$j)\",\n",
    "                horizontalalignment=\"center\",\n",
    "                verticalalignment=\"center\",\n",
    "                fontsize=8)\n",
    "        end\n",
    "    end\n",
    "end"
   ]
  },
  {
   "cell_type": "code",
   "execution_count": 3,
   "metadata": {},
   "outputs": [
    {
     "data": {
      "image/png": "[encoded data removed]",
      "text/plain": [
       "Figure(PyObject <Figure size 640x480 with 1 Axes>)"
      ]
     },
     "metadata": {},
     "output_type": "display_data"
    }
   ],
   "source": [
    "plot_maze(H,V)\n",
    "plot_cell_indices(size(H,1))"
   ]
  },
  {
   "cell_type": "markdown",
   "metadata": {},
   "source": [
    "In addition, we will find paths between the points `1,n` and `n,1`, which can be stored in two arrays of integers. For the example above, this path is given by"
   ]
  },
  {
   "cell_type": "code",
   "execution_count": 4,
   "metadata": {},
   "outputs": [],
   "source": [
    "x = [6, 5, 5, 6, 6, 6, 6, 6, 5, 4, 3, 3, 3, 2, 2, 2, 1];\n",
    "y = [1, 1, 2, 2, 3, 4, 5, 6, 6, 6, 6, 5, 4, 4, 5, 6, 6];"
   ]
  },
  {
   "cell_type": "markdown",
   "metadata": {},
   "source": [
    "and it can be plotted along with the maze using the commands:"
   ]
  },
  {
   "cell_type": "code",
   "execution_count": 5,
   "metadata": {},
   "outputs": [
    {
     "data": {
      "image/png": "[encoded data removed]",
      "text/plain": [
       "Figure(PyObject <Figure size 640x480 with 1 Axes>)"
      ]
     },
     "metadata": {},
     "output_type": "display_data"
    }
   ],
   "source": [
    "plot_maze(H,V);\n",
    "plot(x .- 0.5, y .- 0.5, color=\"r\", linewidth=4);"
   ]
  },
  {
   "cell_type": "markdown",
   "metadata": {},
   "source": [
    "### Generate random maze\n",
    "\n",
    "\n",
    "```julia\n",
    "H,V = make_maze(n)\n",
    "```\n",
    "\n",
    "which produces a random maze of size `n`-by-`n`",
    "\n"
   ]
  },
  {
   "cell_type": "code",
   "execution_count": 6,
   "metadata": {},
   "outputs": [
    {
     "data": {
      "text/plain": [
       "make_maze (generic function with 1 method)"
      ]
     },
     "execution_count": 6,
     "metadata": {},
     "output_type": "execute_result"
    }
   ],
   "source": [
    " function make_maze(n)\n",
    "    H = ones(Bool,n,n-1)\n",
    "    V = ones(Bool,n-1, n)\n",
    "    visit = falses(n,n)\n",
    "    function dig(x,y)\n",
    "    \n",
    "    visit[x,y] = true\n",
    "    directions = randperm(4)\n",
    "    for i in directions\n",
    "    if i == 1 && x<=n && y<n &&visit[x,y+1] == false\n",
    "        H[x,y] = 0\n",
    "        visit[x,y+1] = true\n",
    "        dig(x,y+1)\n",
    "    end\n",
    "    if i == 2 && x<=n && 1<y<=n && visit[x,y-1] == false \n",
    "        H[x,y-1] =  0\n",
    "        visit[x,y-1] = true\n",
    "        dig(x,y-1)\n",
    "    end\n",
    "    if i == 3 && x<n && y<=n && visit[x+1,y] == false\n",
    "        V[x,y] =  0\n",
    "        visit[x+1,y] = true\n",
    "        dig(x+1,y)\n",
    "    end\n",
    "    if i == 4 && 1<x<=n && y<=n && visit[x-1,y] == false\n",
    "        V[x-1,y] =  0\n",
    "        visit[x-1,y] = true\n",
    "        dig(x-1,y)\n",
    "        end\n",
    "    end\n",
    "end                  \n",
    "    dig(1,1)\n",
    "    return H,V\n",
    "end\n",
    "            \n",
    "        "
   ]
  },
  {
   "cell_type": "markdown",
   "metadata": {},
   "source": [
    "### Find path from `1,n` to `n,1`\n",
    "\n",
    "Next, write a function with the syntax\n",
    "\n",
    "```julia\n",
    "pathx, pathy = find_path(H,V)\n",
    "```\n",
    "\n",
    "which finds a path in the maze `H,V` between the coordinates `1,n` and `n,1`\n",
    "\n"
   ]
  },
  {
   "cell_type": "code",
   "execution_count": 7,
   "metadata": {},
   "outputs": [
    {
     "data": {
      "text/plain": [
       "find_path (generic function with 1 method)"
      ]
     },
     "execution_count": 7,
     "metadata": {},
     "output_type": "execute_result"
    }
   ],
   "source": [
    "function find_path(H,V)\n",
    "    n = size(H,1)\n",
    "    visit = falses(n,n)\n",
    "    pathx = []\n",
    "    pathy = []\n",
    "    function recur(x,y)\n",
    "        if x == n && y == 1\n",
    "            push!(pathx,x)\n",
    "            push!(pathy,y)\n",
    "            return true \n",
    "        else \n",
    "            p_o = []\n",
    "            if x<=n && y<n &&visit[x,y+1] == false && H[x,y] == 0\n",
    "                visit[x,y] = true\n",
    "                if recur(x,y+1) == true\n",
    "                    push!(p_o, true)\n",
    "                end\n",
    "            end\n",
    "            if  x<=n && 1<y<=n && visit[x,y-1] == false && H[x,y-1] == 0\n",
    "                visit[x,y] = true\n",
    "                if recur(x,y-1) == true\n",
    "                    push!(p_o, true)\n",
    "                end\n",
    "            end\n",
    "            if  x<n && y<=n && visit[x+1,y] == false && V[x,y] == 0\n",
    "                visit[x,y] = true\n",
    "                if recur(x+1,y) == true\n",
    "                    push!(p_o, true)\n",
    "                end\n",
    "            end\n",
    "            if  1<x<=n && y<=n && visit[x-1,y] == false && V[x-1,y] == 0\n",
    "                visit[x,y] = true\n",
    "                if recur(x-1,y) == true\n",
    "                    push!(p_o, true)\n",
    "                    end\n",
    "                end\n",
    "            end\n",
    "            if true in p_o\n",
    "                push!(pathx,x)\n",
    "                push!(pathy,y)\n",
    "                return true\n",
    "            end\n",
    "    end\n",
    "    recur(1,n)\n",
    "    return pathx, pathy\n",
    "end"
   ]
  },
  {
   "cell_type": "markdown",
   "metadata": {},
   "source": [
    "### Large maze test\n",
    "\n"
   ]
  },
  {
   "cell_type": "code",
   "execution_count": 8,
   "metadata": {},
   "outputs": [
    {
     "data": {
      "image/png": "[encoded data removed]",
      "text/plain": [
       "Figure(PyObject <Figure size 640x480 with 1 Axes>)"
      ]
     },
     "metadata": {},
     "output_type": "display_data"
    }
   ],
   "source": [
    "n = 25\n",
    "H,V = make_maze(n)\n",
    "plot_maze(H,V)\n",
    "x, y = find_path(H,V)\n",
    "plot(x .- 0.5, y .- 0.5, color=\"r\", linewidth=4);"
   ]
  },
  {
   "cell_type": "code",
   "execution_count": null,
   "metadata": {},
   "outputs": [],
   "source": []
  }
 ],
 "metadata": {
  "kernelspec": {
   "display_name": "Julia 1.6.3",
   "language": "julia",
   "name": "julia-1.6"
  },
  "language_info": {
   "file_extension": ".jl",
   "mimetype": "application/julia",
   "name": "julia",
   "version": "1.6.3"
  }
 },
 "nbformat": 4,
 "nbformat_minor": 2
}
